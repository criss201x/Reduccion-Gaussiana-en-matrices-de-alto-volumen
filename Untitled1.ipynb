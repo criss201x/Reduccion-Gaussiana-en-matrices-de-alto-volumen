{
 "cells": [
  {
   "cell_type": "code",
   "execution_count": 1,
   "metadata": {},
   "outputs": [
    {
     "name": "stdout",
     "output_type": "stream",
     "text": [
      "x1 =  3.0247190501056416\n",
      "x2 =  -1.17949009013103\n",
      "x3 =  -2.004813040615706\n",
      "x =  [ 3.02471905 -1.17949009 -2.00481304]\n",
      "Calculations = 12\n"
     ]
    }
   ],
   "source": [
    "import numpy as np #First make sure that python installs the numpy package\n",
    "\n",
    "\n",
    "def gauss(a, b):      #Define a function yourself, the independent variables are a, b\n",
    "    cout = 0                      #Define calculation times\n",
    "    m, n = a.shape #Number of rows and columns of matrix a\n",
    "    if ( m < n ):\n",
    "        print(\"There is a solution space.\")#Ensure that the number of equations is greater than the number of unknowns\n",
    "    else:\n",
    "        l = np.zeros((n,n))\n",
    "        for i in range(n):\n",
    "                         # limitation factor \n",
    "            if (a[i][i] == 0):\n",
    "                print(\"no answer\")\n",
    "\n",
    "\n",
    "                 # j means column\n",
    "        for k in range(n - 1):          # k represents the first layer of loop,(0，n-1)Row \n",
    "            for i in range(k + 1, n):      # i means the second layer of loop,(k+1,n)Row,Calculate the coefficient of elimination of the row\n",
    "                l[i][k] = a[i][k] / a[k][k]          #Calculation\n",
    "                cout += 1                              #Calculation times plus one\n",
    "                for j in range(m):            # j represents the column, perform operations on each column\n",
    "                    a[i][j] = a[i][j] - l[i][k] * a[k][j]\n",
    "                    cout += 1\n",
    "                b[i] = b[i] - l[i][k] * b[k]\n",
    "                 # Back to solve the equation\n",
    "        x = np.zeros(n)                                              #First set the de-assignment value to zero, and then calculate one by one\n",
    "        x[n - 1] = b[n - 1] / a[n - 1][n - 1]  #Calculate the last x solution first\n",
    "\n",
    "        for i in range(n - 2, -1, -1):            #Return and count each solution backwards\n",
    "            for j in range(i + 1, n):\n",
    "                b[i] -= a[i][j] * x[j]              # Since the increase and decrease\n",
    "            x[i] = b[i] / a[i][i]\n",
    "        for i in range(n):\n",
    "            print(\"x\" + str(i + 1) + \" = \", x[i])\n",
    "        print(\"x\" \" = \", x)\n",
    "        print(\"Calculations\", \"=\", cout)\n",
    "\n",
    "#---------------The above is the main program, the following is the input program\n",
    "\n",
    "if __name__ == '__main__':            #When the module is run directly, the following code blocks will be run. When the module is imported, the code blocks will not be run.\n",
    "    a = np.array([[0.5, 1.1, 3.1], [2.0, 4.5, 0.36], [5.0, 0.96, 6.5]])        #Input coefficient matrix\n",
    "    b = np.array([-6.0, 0.020, 0.96])                                                                            #Enhanced one-column matrix\n",
    "    gauss(a, b)    "
   ]
  },
  {
   "cell_type": "code",
   "execution_count": null,
   "metadata": {},
   "outputs": [],
   "source": []
  }
 ],
 "metadata": {
  "kernelspec": {
   "display_name": "Python 3",
   "language": "python",
   "name": "python3"
  },
  "language_info": {
   "codemirror_mode": {
    "name": "ipython",
    "version": 3
   },
   "file_extension": ".py",
   "mimetype": "text/x-python",
   "name": "python",
   "nbconvert_exporter": "python",
   "pygments_lexer": "ipython3",
   "version": "3.8.5"
  }
 },
 "nbformat": 4,
 "nbformat_minor": 4
}
